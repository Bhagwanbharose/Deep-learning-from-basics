{
 "cells": [
  {
   "cell_type": "code",
   "execution_count": 59,
   "metadata": {},
   "outputs": [],
   "source": [
    "import numpy as np\n",
    "import pandas as pd\n",
    "import tensorflow as tf\n",
    "import matplotlib.pyplot as plt\n",
    "import warnings\n",
    "warnings.filterwarnings('ignore')\n",
    "%matplotlib inline"
   ]
  },
  {
   "cell_type": "code",
   "execution_count": 3,
   "metadata": {},
   "outputs": [],
   "source": [
    "#steps to use Estimator API\n",
    "#1. Define a list of feature columns\n",
    "#2. Create the Estimator Model\n",
    "#3. Create a Data Input function\n",
    "#4. Call train, evaluate and predict methods on the estimator object."
   ]
  },
  {
   "cell_type": "code",
   "execution_count": 5,
   "metadata": {},
   "outputs": [],
   "source": [
    "#1. Creating feature column!\n",
    "features= [tf.feature_column.numeric_column('feat',shape=[1])]"
   ]
  },
  {
   "cell_type": "code",
   "execution_count": 9,
   "metadata": {},
   "outputs": [
    {
     "name": "stdout",
     "output_type": "stream",
     "text": [
      "INFO:tensorflow:Using default config.\n",
      "WARNING:tensorflow:Using temporary folder as model directory: C:\\Users\\Lenovo\\AppData\\Local\\Temp\\tmpvucri2ge\n",
      "INFO:tensorflow:Using config: {'_model_dir': 'C:\\\\Users\\\\Lenovo\\\\AppData\\\\Local\\\\Temp\\\\tmpvucri2ge', '_tf_random_seed': None, '_save_summary_steps': 100, '_save_checkpoints_steps': None, '_save_checkpoints_secs': 600, '_session_config': allow_soft_placement: true\n",
      "graph_options {\n",
      "  rewrite_options {\n",
      "    meta_optimizer_iterations: ONE\n",
      "  }\n",
      "}\n",
      ", '_keep_checkpoint_max': 5, '_keep_checkpoint_every_n_hours': 10000, '_log_step_count_steps': 100, '_train_distribute': None, '_device_fn': None, '_protocol': None, '_eval_distribute': None, '_experimental_distribute': None, '_experimental_max_worker_delay_secs': None, '_session_creation_timeout_secs': 7200, '_service': None, '_cluster_spec': <tensorflow.python.training.server_lib.ClusterSpec object at 0x00000038FE873CF8>, '_task_type': 'worker', '_task_id': 0, '_global_id_in_cluster': 0, '_master': '', '_evaluation_master': '', '_is_chief': True, '_num_ps_replicas': 0, '_num_worker_replicas': 1}\n"
     ]
    }
   ],
   "source": [
    "estimator = tf.estimator.LinearRegressor(features)"
   ]
  },
  {
   "cell_type": "code",
   "execution_count": 11,
   "metadata": {},
   "outputs": [],
   "source": [
    "data = np.linspace(0.0,10.0,1000000)\n",
    "noise = np.random.randn(len(data))\n",
    "y_exp = (0.5 * data) + 5 + noise"
   ]
  },
  {
   "cell_type": "code",
   "execution_count": 60,
   "metadata": {},
   "outputs": [],
   "source": [
    "feature = pd.DataFrame(data,columns=['feature'])"
   ]
  },
  {
   "cell_type": "code",
   "execution_count": 61,
   "metadata": {},
   "outputs": [],
   "source": [
    "label = pd.DataFrame(y_exp,columns=['Label'])"
   ]
  },
  {
   "cell_type": "code",
   "execution_count": 62,
   "metadata": {},
   "outputs": [],
   "source": [
    "dataset = pd.concat([feature,label],axis=1)"
   ]
  },
  {
   "cell_type": "code",
   "execution_count": 13,
   "metadata": {},
   "outputs": [],
   "source": [
    "from sklearn.model_selection import train_test_split\n",
    "X_train ,X_test,Y_train,Y_test = train_test_split(data,y_exp,test_size=0.35,random_state=10)"
   ]
  },
  {
   "cell_type": "code",
   "execution_count": 14,
   "metadata": {},
   "outputs": [
    {
     "name": "stdout",
     "output_type": "stream",
     "text": [
      "(650000,)\n"
     ]
    }
   ],
   "source": [
    "print(X_train.shape)"
   ]
  },
  {
   "cell_type": "code",
   "execution_count": 15,
   "metadata": {},
   "outputs": [
    {
     "name": "stdout",
     "output_type": "stream",
     "text": [
      "(350000,)\n"
     ]
    }
   ],
   "source": [
    "print(X_test.shape)"
   ]
  },
  {
   "cell_type": "code",
   "execution_count": 17,
   "metadata": {},
   "outputs": [],
   "source": [
    "#Input fuction kind acts like feed dict and batch sie indicator."
   ]
  },
  {
   "cell_type": "code",
   "execution_count": 30,
   "metadata": {},
   "outputs": [],
   "source": [
    "inp_fun = tf.estimator.inputs.numpy_input_fn({'feat':X_train},\n",
    "                                             Y_train,\n",
    "                                             batch_size=10,\n",
    "                                            num_epochs=None,\n",
    "                                            shuffle=True)"
   ]
  },
  {
   "cell_type": "code",
   "execution_count": 31,
   "metadata": {},
   "outputs": [],
   "source": [
    "train_fun = tf.estimator.inputs.numpy_input_fn({'feat':X_train},\n",
    "                                             Y_train,\n",
    "                                             batch_size=10,\n",
    "                                            num_epochs=1000,\n",
    "                                            shuffle=False)"
   ]
  },
  {
   "cell_type": "code",
   "execution_count": 32,
   "metadata": {},
   "outputs": [],
   "source": [
    "test_fun = tf.estimator.inputs.numpy_input_fn({'feat':X_test},\n",
    "                                             Y_test,\n",
    "                                             batch_size=10,\n",
    "                                            num_epochs=1000,\n",
    "                                            shuffle=False)"
   ]
  },
  {
   "cell_type": "code",
   "execution_count": 33,
   "metadata": {},
   "outputs": [
    {
     "name": "stdout",
     "output_type": "stream",
     "text": [
      "INFO:tensorflow:Calling model_fn.\n",
      "INFO:tensorflow:Done calling model_fn.\n",
      "INFO:tensorflow:Create CheckpointSaverHook.\n",
      "INFO:tensorflow:Graph was finalized.\n",
      "INFO:tensorflow:Restoring parameters from C:\\Users\\Lenovo\\AppData\\Local\\Temp\\tmpvucri2ge\\model.ckpt-19500\n",
      "INFO:tensorflow:Running local_init_op.\n",
      "INFO:tensorflow:Done running local_init_op.\n",
      "INFO:tensorflow:Saving checkpoints for 19500 into C:\\Users\\Lenovo\\AppData\\Local\\Temp\\tmpvucri2ge\\model.ckpt.\n",
      "INFO:tensorflow:loss = 11.52339, step = 19501\n",
      "INFO:tensorflow:global_step/sec: 598.131\n",
      "INFO:tensorflow:loss = 19.512796, step = 19601 (0.167 sec)\n",
      "INFO:tensorflow:global_step/sec: 965.717\n",
      "INFO:tensorflow:loss = 5.6665125, step = 19701 (0.104 sec)\n",
      "INFO:tensorflow:global_step/sec: 635.205\n",
      "INFO:tensorflow:loss = 14.670874, step = 19801 (0.161 sec)\n",
      "INFO:tensorflow:global_step/sec: 657.785\n",
      "INFO:tensorflow:loss = 1.8705102, step = 19901 (0.148 sec)\n",
      "INFO:tensorflow:global_step/sec: 705.802\n",
      "INFO:tensorflow:loss = 10.189279, step = 20001 (0.146 sec)\n",
      "INFO:tensorflow:global_step/sec: 864.575\n",
      "INFO:tensorflow:loss = 15.005224, step = 20101 (0.127 sec)\n",
      "INFO:tensorflow:global_step/sec: 854.293\n",
      "INFO:tensorflow:loss = 8.124125, step = 20201 (0.101 sec)\n",
      "INFO:tensorflow:global_step/sec: 871.826\n",
      "INFO:tensorflow:loss = 6.6498113, step = 20301 (0.115 sec)\n",
      "INFO:tensorflow:global_step/sec: 829.104\n",
      "INFO:tensorflow:loss = 5.5835743, step = 20401 (0.121 sec)\n",
      "INFO:tensorflow:Saving checkpoints for 20500 into C:\\Users\\Lenovo\\AppData\\Local\\Temp\\tmpvucri2ge\\model.ckpt.\n",
      "WARNING:tensorflow:From C:\\Users\\Lenovo\\Anaconda3\\lib\\site-packages\\tensorflow_core\\python\\training\\saver.py:963: remove_checkpoint (from tensorflow.python.training.checkpoint_management) is deprecated and will be removed in a future version.\n",
      "Instructions for updating:\n",
      "Use standard file APIs to delete files with this prefix.\n",
      "INFO:tensorflow:Loss for final step: 11.67639.\n"
     ]
    },
    {
     "data": {
      "text/plain": [
       "<tensorflow_estimator.python.estimator.canned.linear.LinearRegressor at 0x38fe873e80>"
      ]
     },
     "execution_count": 33,
     "metadata": {},
     "output_type": "execute_result"
    }
   ],
   "source": [
    "estimator.train(input_fn=inp_fun,steps=1000)"
   ]
  },
  {
   "cell_type": "code",
   "execution_count": 36,
   "metadata": {},
   "outputs": [
    {
     "name": "stdout",
     "output_type": "stream",
     "text": [
      "INFO:tensorflow:Calling model_fn.\n",
      "INFO:tensorflow:Done calling model_fn.\n",
      "INFO:tensorflow:Starting evaluation at 2020-03-19T13:11:40Z\n",
      "INFO:tensorflow:Graph was finalized.\n",
      "INFO:tensorflow:Restoring parameters from C:\\Users\\Lenovo\\AppData\\Local\\Temp\\tmpvucri2ge\\model.ckpt-20500\n",
      "INFO:tensorflow:Running local_init_op.\n",
      "INFO:tensorflow:Done running local_init_op.\n",
      "INFO:tensorflow:Evaluation [100/1000]\n",
      "INFO:tensorflow:Evaluation [200/1000]\n",
      "INFO:tensorflow:Evaluation [300/1000]\n",
      "INFO:tensorflow:Evaluation [400/1000]\n",
      "INFO:tensorflow:Evaluation [500/1000]\n",
      "INFO:tensorflow:Evaluation [600/1000]\n",
      "INFO:tensorflow:Evaluation [700/1000]\n",
      "INFO:tensorflow:Evaluation [800/1000]\n",
      "INFO:tensorflow:Evaluation [900/1000]\n",
      "INFO:tensorflow:Evaluation [1000/1000]\n",
      "INFO:tensorflow:Finished evaluation at 2020-03-19-13:11:43\n",
      "INFO:tensorflow:Saving dict for global step 20500: average_loss = 0.9936719, global_step = 20500, label/mean = 7.49835, loss = 9.936719, prediction/mean = 7.5365376\n",
      "INFO:tensorflow:Saving 'checkpoint_path' summary for global step 20500: C:\\Users\\Lenovo\\AppData\\Local\\Temp\\tmpvucri2ge\\model.ckpt-20500\n"
     ]
    }
   ],
   "source": [
    "train_matrix = estimator.evaluate(input_fn=train_fun,steps=1000)"
   ]
  },
  {
   "cell_type": "code",
   "execution_count": 37,
   "metadata": {},
   "outputs": [
    {
     "data": {
      "text/plain": [
       "{'average_loss': 0.9936719,\n",
       " 'label/mean': 7.49835,\n",
       " 'loss': 9.936719,\n",
       " 'prediction/mean': 7.5365376,\n",
       " 'global_step': 20500}"
      ]
     },
     "execution_count": 37,
     "metadata": {},
     "output_type": "execute_result"
    }
   ],
   "source": [
    "train_matrix"
   ]
  },
  {
   "cell_type": "code",
   "execution_count": 38,
   "metadata": {},
   "outputs": [
    {
     "name": "stdout",
     "output_type": "stream",
     "text": [
      "INFO:tensorflow:Calling model_fn.\n",
      "INFO:tensorflow:Done calling model_fn.\n",
      "INFO:tensorflow:Starting evaluation at 2020-03-19T13:12:31Z\n",
      "INFO:tensorflow:Graph was finalized.\n",
      "INFO:tensorflow:Restoring parameters from C:\\Users\\Lenovo\\AppData\\Local\\Temp\\tmpvucri2ge\\model.ckpt-20500\n",
      "INFO:tensorflow:Running local_init_op.\n",
      "INFO:tensorflow:Done running local_init_op.\n",
      "INFO:tensorflow:Evaluation [100/1000]\n",
      "INFO:tensorflow:Evaluation [200/1000]\n",
      "INFO:tensorflow:Evaluation [300/1000]\n",
      "INFO:tensorflow:Evaluation [400/1000]\n",
      "INFO:tensorflow:Evaluation [500/1000]\n",
      "INFO:tensorflow:Evaluation [600/1000]\n",
      "INFO:tensorflow:Evaluation [700/1000]\n",
      "INFO:tensorflow:Evaluation [800/1000]\n",
      "INFO:tensorflow:Evaluation [900/1000]\n",
      "INFO:tensorflow:Evaluation [1000/1000]\n",
      "INFO:tensorflow:Finished evaluation at 2020-03-19-13:12:33\n",
      "INFO:tensorflow:Saving dict for global step 20500: average_loss = 1.0011401, global_step = 20500, label/mean = 7.478076, loss = 10.011401, prediction/mean = 7.523672\n",
      "INFO:tensorflow:Saving 'checkpoint_path' summary for global step 20500: C:\\Users\\Lenovo\\AppData\\Local\\Temp\\tmpvucri2ge\\model.ckpt-20500\n"
     ]
    }
   ],
   "source": [
    "test_matrix = estimator.evaluate(input_fn=test_fun,steps=1000)"
   ]
  },
  {
   "cell_type": "code",
   "execution_count": 40,
   "metadata": {},
   "outputs": [
    {
     "name": "stdout",
     "output_type": "stream",
     "text": [
      "train_matrix {'average_loss': 0.9936719, 'label/mean': 7.49835, 'loss': 9.936719, 'prediction/mean': 7.5365376, 'global_step': 20500}\n",
      "\n",
      "test_matrix {'average_loss': 1.0011401, 'label/mean': 7.478076, 'loss': 10.011401, 'prediction/mean': 7.523672, 'global_step': 20500}\n"
     ]
    }
   ],
   "source": [
    "print('train_matrix',train_matrix)\n",
    "print()\n",
    "print('test_matrix',test_matrix)"
   ]
  },
  {
   "cell_type": "code",
   "execution_count": 50,
   "metadata": {},
   "outputs": [],
   "source": [
    "test_data = np.linspace(0,10,10)\n",
    "predicting = tf.estimator.inputs.numpy_input_fn({'feat':test_data},\n",
    "                                              shuffle=False)"
   ]
  },
  {
   "cell_type": "code",
   "execution_count": 55,
   "metadata": {},
   "outputs": [
    {
     "name": "stdout",
     "output_type": "stream",
     "text": [
      "INFO:tensorflow:Calling model_fn.\n",
      "INFO:tensorflow:Done calling model_fn.\n",
      "INFO:tensorflow:Graph was finalized.\n",
      "INFO:tensorflow:Restoring parameters from C:\\Users\\Lenovo\\AppData\\Local\\Temp\\tmpvucri2ge\\model.ckpt-20500\n",
      "INFO:tensorflow:Running local_init_op.\n",
      "INFO:tensorflow:Done running local_init_op.\n"
     ]
    }
   ],
   "source": [
    "predicted = list(estimator.predict(input_fn=predicting) )"
   ]
  },
  {
   "cell_type": "code",
   "execution_count": 56,
   "metadata": {},
   "outputs": [],
   "source": [
    "pred = []\n",
    "for p in predicted:\n",
    "    pred.append(p['predictions'])"
   ]
  },
  {
   "cell_type": "code",
   "execution_count": 57,
   "metadata": {},
   "outputs": [
    {
     "data": {
      "text/plain": [
       "[array([5.005893], dtype=float32),\n",
       " array([5.565994], dtype=float32),\n",
       " array([6.126094], dtype=float32),\n",
       " array([6.6861944], dtype=float32),\n",
       " array([7.246295], dtype=float32),\n",
       " array([7.8063946], dtype=float32),\n",
       " array([8.366495], dtype=float32),\n",
       " array([8.926596], dtype=float32),\n",
       " array([9.486696], dtype=float32),\n",
       " array([10.046797], dtype=float32)]"
      ]
     },
     "execution_count": 57,
     "metadata": {},
     "output_type": "execute_result"
    }
   ],
   "source": [
    "pred"
   ]
  },
  {
   "cell_type": "code",
   "execution_count": 65,
   "metadata": {},
   "outputs": [
    {
     "data": {
      "text/plain": [
       "<matplotlib.axes._subplots.AxesSubplot at 0x38892ac048>"
      ]
     },
     "execution_count": 65,
     "metadata": {},
     "output_type": "execute_result"
    },
    {
     "data": {
      "image/png": "[encoded data removed]",
      "text/plain": [
       "<Figure size 432x288 with 1 Axes>"
      ]
     },
     "metadata": {
      "needs_background": "light"
     },
     "output_type": "display_data"
    }
   ],
   "source": [
    "dataset.sample(n=300).plot(x='feature',y='Label',kind='scatter')"
   ]
  },
  {
   "cell_type": "code",
   "execution_count": 68,
   "metadata": {},
   "outputs": [
    {
     "data": {
      "text/plain": [
       "[<matplotlib.lines.Line2D at 0x3888a120b8>]"
      ]
     },
     "execution_count": 68,
     "metadata": {},
     "output_type": "execute_result"
    },
    {
     "data": {
      "image/png": "[encoded data removed]",
      "text/plain": [
       "<Figure size 432x288 with 1 Axes>"
      ]
     },
     "metadata": {
      "needs_background": "light"
     },
     "output_type": "display_data"
    }
   ],
   "source": [
    "dataset.sample(n=300).plot(x='feature',y='Label',kind='scatter')\n",
    "plt.plot(test_data,pred,'r')"
   ]
  },
  {
   "cell_type": "code",
   "execution_count": null,
   "metadata": {},
   "outputs": [],
   "source": []
  }
 ],
 "metadata": {
  "kernelspec": {
   "display_name": "Python 3",
   "language": "python",
   "name": "python3"
  },
  "language_info": {
   "codemirror_mode": {
    "name": "ipython",
    "version": 3
   },
   "file_extension": ".py",
   "mimetype": "text/x-python",
   "name": "python",
   "nbconvert_exporter": "python",
   "pygments_lexer": "ipython3",
   "version": "3.7.3"
  }
 },
 "nbformat": 4,
 "nbformat_minor": 2
}
