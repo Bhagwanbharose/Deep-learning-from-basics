{
 "cells": [
  {
   "cell_type": "code",
   "execution_count": 3,
   "metadata": {},
   "outputs": [],
   "source": [
    "import tensorflow as tf\n",
    "import numpy as np"
   ]
  },
  {
   "cell_type": "code",
   "execution_count": 17,
   "metadata": {},
   "outputs": [],
   "source": [
    "np.random.seed(100)\n",
    "tf.set_random_seed(100)"
   ]
  },
  {
   "cell_type": "code",
   "execution_count": 18,
   "metadata": {},
   "outputs": [],
   "source": [
    "random_a = np.random.uniform(0,100,(5,5))"
   ]
  },
  {
   "cell_type": "code",
   "execution_count": 19,
   "metadata": {},
   "outputs": [
    {
     "data": {
      "text/plain": [
       "array([[54.34049418, 27.83693851, 42.45175907, 84.47761323,  0.47188562],\n",
       "       [12.15691208, 67.07490847, 82.58527551, 13.67065897, 57.50933294],\n",
       "       [89.13219543, 20.92021221, 18.53282196, 10.83768905, 21.96974926],\n",
       "       [97.86237847, 81.16831491, 17.19410127, 81.62247487, 27.4073747 ],\n",
       "       [43.17041837, 94.00298196, 81.76493788, 33.61119501, 17.54104537]])"
      ]
     },
     "execution_count": 19,
     "metadata": {},
     "output_type": "execute_result"
    }
   ],
   "source": [
    "random_a"
   ]
  },
  {
   "cell_type": "code",
   "execution_count": 20,
   "metadata": {},
   "outputs": [],
   "source": [
    "random_b = np.random.uniform(0,100,(5,1))"
   ]
  },
  {
   "cell_type": "code",
   "execution_count": 21,
   "metadata": {},
   "outputs": [
    {
     "data": {
      "text/plain": [
       "array([[37.28320463],\n",
       "       [ 0.56885074],\n",
       "       [25.24263534],\n",
       "       [79.56625085],\n",
       "       [ 1.52549712]])"
      ]
     },
     "execution_count": 21,
     "metadata": {},
     "output_type": "execute_result"
    }
   ],
   "source": [
    "random_b"
   ]
  },
  {
   "cell_type": "code",
   "execution_count": 23,
   "metadata": {},
   "outputs": [],
   "source": [
    "a = tf.placeholder(tf.float32)\n",
    "b = tf.placeholder(tf.float32)"
   ]
  },
  {
   "cell_type": "code",
   "execution_count": 24,
   "metadata": {},
   "outputs": [],
   "source": [
    "add_op = a + b"
   ]
  },
  {
   "cell_type": "code",
   "execution_count": 25,
   "metadata": {},
   "outputs": [],
   "source": [
    "mult_op = a * b"
   ]
  },
  {
   "cell_type": "code",
   "execution_count": 30,
   "metadata": {},
   "outputs": [],
   "source": [
    "with tf.Session() as sess:\n",
    "    add = sess.run(add_op,feed_dict={a:random_a,b:random_b})\n",
    "    mult = sess.run(mult_op,feed_dict={a:random_a,b:random_b})"
   ]
  },
  {
   "cell_type": "code",
   "execution_count": 31,
   "metadata": {},
   "outputs": [
    {
     "data": {
      "text/plain": [
       "array([[ 91.6237  ,  65.12014 ,  79.73496 , 121.76082 ,  37.75509 ],\n",
       "       [ 12.725762,  67.64375 ,  83.15412 ,  14.23951 ,  58.078186],\n",
       "       [114.37483 ,  46.16285 ,  43.77546 ,  36.080326,  47.212387],\n",
       "       [177.42863 , 160.73456 ,  96.76035 , 161.18872 , 106.97363 ],\n",
       "       [ 44.695915,  95.52848 ,  83.290436,  35.136692,  19.066544]],\n",
       "      dtype=float32)"
      ]
     },
     "execution_count": 31,
     "metadata": {},
     "output_type": "execute_result"
    }
   ],
   "source": [
    "add"
   ]
  },
  {
   "cell_type": "code",
   "execution_count": 32,
   "metadata": {},
   "outputs": [
    {
     "data": {
      "text/plain": [
       "array([[2.0259878e+03, 1.0378502e+03, 1.5827375e+03, 3.1495962e+03,\n",
       "        1.7593407e+01],\n",
       "       [6.9154687e+00, 3.8155609e+01, 4.6978695e+01, 7.7765646e+00,\n",
       "        3.2714230e+01],\n",
       "       [2.2499314e+03, 5.2808130e+02, 4.6781726e+02, 2.7357184e+02,\n",
       "        5.5457440e+02],\n",
       "       [7.7865430e+03, 6.4582583e+03, 1.3680702e+03, 6.4943945e+03,\n",
       "        2.1807021e+03],\n",
       "       [6.5856346e+01, 1.4340128e+02, 1.2473218e+02, 5.1273781e+01,\n",
       "        2.6758814e+01]], dtype=float32)"
      ]
     },
     "execution_count": 32,
     "metadata": {},
     "output_type": "execute_result"
    }
   ],
   "source": [
    "mult"
   ]
  },
  {
   "cell_type": "code",
   "execution_count": null,
   "metadata": {},
   "outputs": [],
   "source": []
  }
 ],
 "metadata": {
  "kernelspec": {
   "display_name": "Python 3",
   "language": "python",
   "name": "python3"
  },
  "language_info": {
   "codemirror_mode": {
    "name": "ipython",
    "version": 3
   },
   "file_extension": ".py",
   "mimetype": "text/x-python",
   "name": "python",
   "nbconvert_exporter": "python",
   "pygments_lexer": "ipython3",
   "version": "3.7.3"
  }
 },
 "nbformat": 4,
 "nbformat_minor": 2
}
